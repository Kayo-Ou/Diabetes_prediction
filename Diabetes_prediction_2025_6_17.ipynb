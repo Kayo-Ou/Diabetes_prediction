{
  "nbformat": 4,
  "nbformat_minor": 0,
  "metadata": {
    "colab": {
      "provenance": []
    },
    "kernelspec": {
      "name": "python3",
      "display_name": "Python 3"
    },
    "language_info": {
      "name": "python"
    }
  },
  "cells": [
    {
      "cell_type": "markdown",
      "source": [
        "# 糖尿病预测"
      ],
      "metadata": {
        "id": "GowGQf_Y6bEz"
      }
    },
    {
      "cell_type": "markdown",
      "source": [
        "## 简介\n",
        "\n",
        "本报告基于糖尿病预测模型的特征重要性分析，重点关注除血糖指标（`blood_glucose_level`和`HbA1c_level`）以外的次级预测因子，以提供更全面的风险评估视角。  "
      ],
      "metadata": {
        "id": "YAsGpo-lD7Xp"
      }
    },
    {
      "cell_type": "markdown",
      "source": [
        "### **糖尿病预测分析项目总结**  \n",
        "\n",
        "#### **项目过程**  \n",
        "1. **数据准备**  \n",
        "   - 分析医疗数据集，包含血糖水平、HbA1c、年龄、BMI、高血压等临床指标  \n",
        "   - 处理缺失值，标准化数值特征，确保数据质量  \n",
        "\n",
        "2. **模型构建**  \n",
        "   - 采用**XGBoost分类器**，优化超参数提高预测性能  \n",
        "   - 重点关注模型的可解释性，便于医疗团队理解决策依据  \n",
        "\n",
        "3. **模型评估**  \n",
        "   - **准确率91.01%**，但存在明显的类别不平衡问题（糖尿病患者占少数）  \n",
        "   - **召回率90.53%**，表明模型能有效识别绝大多数糖尿病患者  \n",
        "   - **精确率48.44%**，存在较多假阳性，需结合二次筛查  \n",
        "\n",
        "---  \n",
        "\n",
        "#### **关键特征分析**  \n",
        "1. **血糖指标**  \n",
        "   - **血糖水平（blood_glucose_level）**：最强预测因子（重要性0.495）  \n",
        "   - **糖化血红蛋白（HbA1c_level）**：第二重要特征（重要性0.281）  \n",
        "\n",
        "2. **人口统计学特征**  \n",
        "   - **年龄（Age）**：50岁以上人群风险显著增加（重要性0.085）  \n",
        "   - **BMI**：超重（BMI≥25）人群风险更高（重要性0.049）  \n",
        "\n",
        "3. **并发症指标**  \n",
        "   - **高血压**：与糖尿病风险中度相关（重要性0.041）  \n",
        "   - **心脏病**：预测价值相对较低（重要性0.029）  \n",
        "\n",
        "---  \n",
        "\n",
        "#### **医疗应用建议**  \n",
        "**筛查优化**  \n",
        "✅ **高危人群优先筛查**：针对>45岁、BMI≥25、有高血压人群加强检测  \n",
        "✅ **两阶段筛查策略**：先用模型初筛，阳性者再行OGTT确诊  \n",
        "\n",
        "**患者管理**  \n",
        "📌 **血糖临界值关注**：对模型预测阳性但未达诊断标准的患者进行生活方式干预  \n",
        "📌 **并发症预防**：对糖尿病患者加强血压和心血管监测  \n",
        "\n",
        "**关键健康指标**  \n",
        "📊 将50岁以上人群筛查覆盖率提升至**85%**  \n",
        "📊 降低糖尿病漏诊率至**5%以下**  \n",
        "\n",
        "---  \n",
        "\n",
        "#### **结论**  \n",
        "本项目成功构建了**高灵敏度糖尿病预测模型**，并得出重要临床洞见：  \n",
        "✔ 验证了血糖指标的核心预测价值，与医学指南高度一致  \n",
        "✔ 识别出年龄和BMI等关键风险因素，助力精准筛查  \n",
        "✔ 为分级诊疗提供了有效工具，优化医疗资源配置  "
      ],
      "metadata": {
        "id": "IxR8dTjbErn5"
      }
    },
    {
      "cell_type": "markdown",
      "source": [
        "## 第一步：探索数据"
      ],
      "metadata": {
        "id": "vhEmHFCV6jup"
      }
    },
    {
      "cell_type": "markdown",
      "source": [
        "### 1. 导入Python的`pandas`和`numpy`库"
      ],
      "metadata": {
        "id": "L5GkZBQb6n4J"
      }
    },
    {
      "cell_type": "code",
      "execution_count": null,
      "metadata": {
        "id": "IPxQO3RfRZQX"
      },
      "outputs": [],
      "source": [
        "import pandas as pd\n",
        "import numpy as np"
      ]
    },
    {
      "cell_type": "markdown",
      "source": [
        "### 2. 加载数据集"
      ],
      "metadata": {
        "id": "nQvmyR2x6qOR"
      }
    },
    {
      "cell_type": "code",
      "source": [
        "diabetes_data = pd.read_csv('diabetes_prediction_dataset.csv', on_bad_lines='skip')"
      ],
      "metadata": {
        "id": "tezI6k0CRkkw"
      },
      "execution_count": null,
      "outputs": []
    },
    {
      "cell_type": "markdown",
      "source": [
        "### 3. 预览数据前5行"
      ],
      "metadata": {
        "id": "UohisHYw6rYZ"
      }
    },
    {
      "cell_type": "code",
      "source": [
        "diabetes_data.head()"
      ],
      "metadata": {
        "colab": {
          "base_uri": "https://localhost:8080/",
          "height": 206
        },
        "id": "0bYDCFGGRz04",
        "outputId": "26cdded9-b75b-4959-d2c3-3857595655a1"
      },
      "execution_count": null,
      "outputs": [
        {
          "output_type": "execute_result",
          "data": {
            "text/plain": [
              "   gender   age  hypertension  heart_disease smoking_history    bmi  \\\n",
              "0  Female  80.0             0              1           never  25.19   \n",
              "1  Female  54.0             0              0         No Info  27.32   \n",
              "2    Male  28.0             0              0           never  27.32   \n",
              "3  Female  36.0             0              0         current  23.45   \n",
              "4    Male  76.0             1              1         current  20.14   \n",
              "\n",
              "   HbA1c_level  blood_glucose_level  diabetes  \n",
              "0          6.6                  140         0  \n",
              "1          6.6                   80         0  \n",
              "2          5.7                  158         0  \n",
              "3          5.0                  155         0  \n",
              "4          4.8                  155         0  "
            ],
            "text/html": [
              "\n",
              "  <div id=\"df-126dc420-0032-4a78-bc9f-451af8a1d5a8\" class=\"colab-df-container\">\n",
              "    <div>\n",
              "<style scoped>\n",
              "    .dataframe tbody tr th:only-of-type {\n",
              "        vertical-align: middle;\n",
              "    }\n",
              "\n",
              "    .dataframe tbody tr th {\n",
              "        vertical-align: top;\n",
              "    }\n",
              "\n",
              "    .dataframe thead th {\n",
              "        text-align: right;\n",
              "    }\n",
              "</style>\n",
              "<table border=\"1\" class=\"dataframe\">\n",
              "  <thead>\n",
              "    <tr style=\"text-align: right;\">\n",
              "      <th></th>\n",
              "      <th>gender</th>\n",
              "      <th>age</th>\n",
              "      <th>hypertension</th>\n",
              "      <th>heart_disease</th>\n",
              "      <th>smoking_history</th>\n",
              "      <th>bmi</th>\n",
              "      <th>HbA1c_level</th>\n",
              "      <th>blood_glucose_level</th>\n",
              "      <th>diabetes</th>\n",
              "    </tr>\n",
              "  </thead>\n",
              "  <tbody>\n",
              "    <tr>\n",
              "      <th>0</th>\n",
              "      <td>Female</td>\n",
              "      <td>80.0</td>\n",
              "      <td>0</td>\n",
              "      <td>1</td>\n",
              "      <td>never</td>\n",
              "      <td>25.19</td>\n",
              "      <td>6.6</td>\n",
              "      <td>140</td>\n",
              "      <td>0</td>\n",
              "    </tr>\n",
              "    <tr>\n",
              "      <th>1</th>\n",
              "      <td>Female</td>\n",
              "      <td>54.0</td>\n",
              "      <td>0</td>\n",
              "      <td>0</td>\n",
              "      <td>No Info</td>\n",
              "      <td>27.32</td>\n",
              "      <td>6.6</td>\n",
              "      <td>80</td>\n",
              "      <td>0</td>\n",
              "    </tr>\n",
              "    <tr>\n",
              "      <th>2</th>\n",
              "      <td>Male</td>\n",
              "      <td>28.0</td>\n",
              "      <td>0</td>\n",
              "      <td>0</td>\n",
              "      <td>never</td>\n",
              "      <td>27.32</td>\n",
              "      <td>5.7</td>\n",
              "      <td>158</td>\n",
              "      <td>0</td>\n",
              "    </tr>\n",
              "    <tr>\n",
              "      <th>3</th>\n",
              "      <td>Female</td>\n",
              "      <td>36.0</td>\n",
              "      <td>0</td>\n",
              "      <td>0</td>\n",
              "      <td>current</td>\n",
              "      <td>23.45</td>\n",
              "      <td>5.0</td>\n",
              "      <td>155</td>\n",
              "      <td>0</td>\n",
              "    </tr>\n",
              "    <tr>\n",
              "      <th>4</th>\n",
              "      <td>Male</td>\n",
              "      <td>76.0</td>\n",
              "      <td>1</td>\n",
              "      <td>1</td>\n",
              "      <td>current</td>\n",
              "      <td>20.14</td>\n",
              "      <td>4.8</td>\n",
              "      <td>155</td>\n",
              "      <td>0</td>\n",
              "    </tr>\n",
              "  </tbody>\n",
              "</table>\n",
              "</div>\n",
              "    <div class=\"colab-df-buttons\">\n",
              "\n",
              "  <div class=\"colab-df-container\">\n",
              "    <button class=\"colab-df-convert\" onclick=\"convertToInteractive('df-126dc420-0032-4a78-bc9f-451af8a1d5a8')\"\n",
              "            title=\"Convert this dataframe to an interactive table.\"\n",
              "            style=\"display:none;\">\n",
              "\n",
              "  <svg xmlns=\"http://www.w3.org/2000/svg\" height=\"24px\" viewBox=\"0 -960 960 960\">\n",
              "    <path d=\"M120-120v-720h720v720H120Zm60-500h600v-160H180v160Zm220 220h160v-160H400v160Zm0 220h160v-160H400v160ZM180-400h160v-160H180v160Zm440 0h160v-160H620v160ZM180-180h160v-160H180v160Zm440 0h160v-160H620v160Z\"/>\n",
              "  </svg>\n",
              "    </button>\n",
              "\n",
              "  <style>\n",
              "    .colab-df-container {\n",
              "      display:flex;\n",
              "      gap: 12px;\n",
              "    }\n",
              "\n",
              "    .colab-df-convert {\n",
              "      background-color: #E8F0FE;\n",
              "      border: none;\n",
              "      border-radius: 50%;\n",
              "      cursor: pointer;\n",
              "      display: none;\n",
              "      fill: #1967D2;\n",
              "      height: 32px;\n",
              "      padding: 0 0 0 0;\n",
              "      width: 32px;\n",
              "    }\n",
              "\n",
              "    .colab-df-convert:hover {\n",
              "      background-color: #E2EBFA;\n",
              "      box-shadow: 0px 1px 2px rgba(60, 64, 67, 0.3), 0px 1px 3px 1px rgba(60, 64, 67, 0.15);\n",
              "      fill: #174EA6;\n",
              "    }\n",
              "\n",
              "    .colab-df-buttons div {\n",
              "      margin-bottom: 4px;\n",
              "    }\n",
              "\n",
              "    [theme=dark] .colab-df-convert {\n",
              "      background-color: #3B4455;\n",
              "      fill: #D2E3FC;\n",
              "    }\n",
              "\n",
              "    [theme=dark] .colab-df-convert:hover {\n",
              "      background-color: #434B5C;\n",
              "      box-shadow: 0px 1px 3px 1px rgba(0, 0, 0, 0.15);\n",
              "      filter: drop-shadow(0px 1px 2px rgba(0, 0, 0, 0.3));\n",
              "      fill: #FFFFFF;\n",
              "    }\n",
              "  </style>\n",
              "\n",
              "    <script>\n",
              "      const buttonEl =\n",
              "        document.querySelector('#df-126dc420-0032-4a78-bc9f-451af8a1d5a8 button.colab-df-convert');\n",
              "      buttonEl.style.display =\n",
              "        google.colab.kernel.accessAllowed ? 'block' : 'none';\n",
              "\n",
              "      async function convertToInteractive(key) {\n",
              "        const element = document.querySelector('#df-126dc420-0032-4a78-bc9f-451af8a1d5a8');\n",
              "        const dataTable =\n",
              "          await google.colab.kernel.invokeFunction('convertToInteractive',\n",
              "                                                    [key], {});\n",
              "        if (!dataTable) return;\n",
              "\n",
              "        const docLinkHtml = 'Like what you see? Visit the ' +\n",
              "          '<a target=\"_blank\" href=https://colab.research.google.com/notebooks/data_table.ipynb>data table notebook</a>'\n",
              "          + ' to learn more about interactive tables.';\n",
              "        element.innerHTML = '';\n",
              "        dataTable['output_type'] = 'display_data';\n",
              "        await google.colab.output.renderOutput(dataTable, element);\n",
              "        const docLink = document.createElement('div');\n",
              "        docLink.innerHTML = docLinkHtml;\n",
              "        element.appendChild(docLink);\n",
              "      }\n",
              "    </script>\n",
              "  </div>\n",
              "\n",
              "\n",
              "    <div id=\"df-eda922f4-9b40-4514-a081-cea98910e73f\">\n",
              "      <button class=\"colab-df-quickchart\" onclick=\"quickchart('df-eda922f4-9b40-4514-a081-cea98910e73f')\"\n",
              "                title=\"Suggest charts\"\n",
              "                style=\"display:none;\">\n",
              "\n",
              "<svg xmlns=\"http://www.w3.org/2000/svg\" height=\"24px\"viewBox=\"0 0 24 24\"\n",
              "     width=\"24px\">\n",
              "    <g>\n",
              "        <path d=\"M19 3H5c-1.1 0-2 .9-2 2v14c0 1.1.9 2 2 2h14c1.1 0 2-.9 2-2V5c0-1.1-.9-2-2-2zM9 17H7v-7h2v7zm4 0h-2V7h2v10zm4 0h-2v-4h2v4z\"/>\n",
              "    </g>\n",
              "</svg>\n",
              "      </button>\n",
              "\n",
              "<style>\n",
              "  .colab-df-quickchart {\n",
              "      --bg-color: #E8F0FE;\n",
              "      --fill-color: #1967D2;\n",
              "      --hover-bg-color: #E2EBFA;\n",
              "      --hover-fill-color: #174EA6;\n",
              "      --disabled-fill-color: #AAA;\n",
              "      --disabled-bg-color: #DDD;\n",
              "  }\n",
              "\n",
              "  [theme=dark] .colab-df-quickchart {\n",
              "      --bg-color: #3B4455;\n",
              "      --fill-color: #D2E3FC;\n",
              "      --hover-bg-color: #434B5C;\n",
              "      --hover-fill-color: #FFFFFF;\n",
              "      --disabled-bg-color: #3B4455;\n",
              "      --disabled-fill-color: #666;\n",
              "  }\n",
              "\n",
              "  .colab-df-quickchart {\n",
              "    background-color: var(--bg-color);\n",
              "    border: none;\n",
              "    border-radius: 50%;\n",
              "    cursor: pointer;\n",
              "    display: none;\n",
              "    fill: var(--fill-color);\n",
              "    height: 32px;\n",
              "    padding: 0;\n",
              "    width: 32px;\n",
              "  }\n",
              "\n",
              "  .colab-df-quickchart:hover {\n",
              "    background-color: var(--hover-bg-color);\n",
              "    box-shadow: 0 1px 2px rgba(60, 64, 67, 0.3), 0 1px 3px 1px rgba(60, 64, 67, 0.15);\n",
              "    fill: var(--button-hover-fill-color);\n",
              "  }\n",
              "\n",
              "  .colab-df-quickchart-complete:disabled,\n",
              "  .colab-df-quickchart-complete:disabled:hover {\n",
              "    background-color: var(--disabled-bg-color);\n",
              "    fill: var(--disabled-fill-color);\n",
              "    box-shadow: none;\n",
              "  }\n",
              "\n",
              "  .colab-df-spinner {\n",
              "    border: 2px solid var(--fill-color);\n",
              "    border-color: transparent;\n",
              "    border-bottom-color: var(--fill-color);\n",
              "    animation:\n",
              "      spin 1s steps(1) infinite;\n",
              "  }\n",
              "\n",
              "  @keyframes spin {\n",
              "    0% {\n",
              "      border-color: transparent;\n",
              "      border-bottom-color: var(--fill-color);\n",
              "      border-left-color: var(--fill-color);\n",
              "    }\n",
              "    20% {\n",
              "      border-color: transparent;\n",
              "      border-left-color: var(--fill-color);\n",
              "      border-top-color: var(--fill-color);\n",
              "    }\n",
              "    30% {\n",
              "      border-color: transparent;\n",
              "      border-left-color: var(--fill-color);\n",
              "      border-top-color: var(--fill-color);\n",
              "      border-right-color: var(--fill-color);\n",
              "    }\n",
              "    40% {\n",
              "      border-color: transparent;\n",
              "      border-right-color: var(--fill-color);\n",
              "      border-top-color: var(--fill-color);\n",
              "    }\n",
              "    60% {\n",
              "      border-color: transparent;\n",
              "      border-right-color: var(--fill-color);\n",
              "    }\n",
              "    80% {\n",
              "      border-color: transparent;\n",
              "      border-right-color: var(--fill-color);\n",
              "      border-bottom-color: var(--fill-color);\n",
              "    }\n",
              "    90% {\n",
              "      border-color: transparent;\n",
              "      border-bottom-color: var(--fill-color);\n",
              "    }\n",
              "  }\n",
              "</style>\n",
              "\n",
              "      <script>\n",
              "        async function quickchart(key) {\n",
              "          const quickchartButtonEl =\n",
              "            document.querySelector('#' + key + ' button');\n",
              "          quickchartButtonEl.disabled = true;  // To prevent multiple clicks.\n",
              "          quickchartButtonEl.classList.add('colab-df-spinner');\n",
              "          try {\n",
              "            const charts = await google.colab.kernel.invokeFunction(\n",
              "                'suggestCharts', [key], {});\n",
              "          } catch (error) {\n",
              "            console.error('Error during call to suggestCharts:', error);\n",
              "          }\n",
              "          quickchartButtonEl.classList.remove('colab-df-spinner');\n",
              "          quickchartButtonEl.classList.add('colab-df-quickchart-complete');\n",
              "        }\n",
              "        (() => {\n",
              "          let quickchartButtonEl =\n",
              "            document.querySelector('#df-eda922f4-9b40-4514-a081-cea98910e73f button');\n",
              "          quickchartButtonEl.style.display =\n",
              "            google.colab.kernel.accessAllowed ? 'block' : 'none';\n",
              "        })();\n",
              "      </script>\n",
              "    </div>\n",
              "    </div>\n",
              "  </div>\n"
            ],
            "application/vnd.google.colaboratory.intrinsic+json": {
              "type": "dataframe",
              "variable_name": "diabetes_data",
              "summary": "{\n  \"name\": \"diabetes_data\",\n  \"rows\": 100000,\n  \"fields\": [\n    {\n      \"column\": \"gender\",\n      \"properties\": {\n        \"dtype\": \"category\",\n        \"num_unique_values\": 3,\n        \"samples\": [\n          \"Female\",\n          \"Male\",\n          \"Other\"\n        ],\n        \"semantic_type\": \"\",\n        \"description\": \"\"\n      }\n    },\n    {\n      \"column\": \"age\",\n      \"properties\": {\n        \"dtype\": \"number\",\n        \"std\": 22.51683987161513,\n        \"min\": 0.08,\n        \"max\": 80.0,\n        \"num_unique_values\": 102,\n        \"samples\": [\n          29.0,\n          39.0,\n          16.0\n        ],\n        \"semantic_type\": \"\",\n        \"description\": \"\"\n      }\n    },\n    {\n      \"column\": \"hypertension\",\n      \"properties\": {\n        \"dtype\": \"number\",\n        \"std\": 0,\n        \"min\": 0,\n        \"max\": 1,\n        \"num_unique_values\": 2,\n        \"samples\": [\n          1,\n          0\n        ],\n        \"semantic_type\": \"\",\n        \"description\": \"\"\n      }\n    },\n    {\n      \"column\": \"heart_disease\",\n      \"properties\": {\n        \"dtype\": \"number\",\n        \"std\": 0,\n        \"min\": 0,\n        \"max\": 1,\n        \"num_unique_values\": 2,\n        \"samples\": [\n          0,\n          1\n        ],\n        \"semantic_type\": \"\",\n        \"description\": \"\"\n      }\n    },\n    {\n      \"column\": \"smoking_history\",\n      \"properties\": {\n        \"dtype\": \"category\",\n        \"num_unique_values\": 6,\n        \"samples\": [\n          \"never\",\n          \"No Info\"\n        ],\n        \"semantic_type\": \"\",\n        \"description\": \"\"\n      }\n    },\n    {\n      \"column\": \"bmi\",\n      \"properties\": {\n        \"dtype\": \"number\",\n        \"std\": 6.636783416649581,\n        \"min\": 10.01,\n        \"max\": 95.69,\n        \"num_unique_values\": 4247,\n        \"samples\": [\n          53.27,\n          32.33\n        ],\n        \"semantic_type\": \"\",\n        \"description\": \"\"\n      }\n    },\n    {\n      \"column\": \"HbA1c_level\",\n      \"properties\": {\n        \"dtype\": \"number\",\n        \"std\": 1.0706720918832282,\n        \"min\": 3.5,\n        \"max\": 9.0,\n        \"num_unique_values\": 18,\n        \"samples\": [\n          6.6,\n          5.7\n        ],\n        \"semantic_type\": \"\",\n        \"description\": \"\"\n      }\n    },\n    {\n      \"column\": \"blood_glucose_level\",\n      \"properties\": {\n        \"dtype\": \"number\",\n        \"std\": 40,\n        \"min\": 80,\n        \"max\": 300,\n        \"num_unique_values\": 18,\n        \"samples\": [\n          140,\n          80\n        ],\n        \"semantic_type\": \"\",\n        \"description\": \"\"\n      }\n    },\n    {\n      \"column\": \"diabetes\",\n      \"properties\": {\n        \"dtype\": \"number\",\n        \"std\": 0,\n        \"min\": 0,\n        \"max\": 1,\n        \"num_unique_values\": 2,\n        \"samples\": [\n          1,\n          0\n        ],\n        \"semantic_type\": \"\",\n        \"description\": \"\"\n      }\n    }\n  ]\n}"
            }
          },
          "metadata": {},
          "execution_count": 3
        }
      ]
    },
    {
      "cell_type": "markdown",
      "source": [
        "### 4. 显示每列的数据类型，检查数据集是否有空值，显示总行数"
      ],
      "metadata": {
        "id": "NbGmeE5E6vWJ"
      }
    },
    {
      "cell_type": "code",
      "source": [
        "diabetes_data.info()"
      ],
      "metadata": {
        "colab": {
          "base_uri": "https://localhost:8080/"
        },
        "id": "RIcTq9-5R5cY",
        "outputId": "16329aed-945c-4990-a121-3a86053a82c8"
      },
      "execution_count": null,
      "outputs": [
        {
          "output_type": "stream",
          "name": "stdout",
          "text": [
            "<class 'pandas.core.frame.DataFrame'>\n",
            "RangeIndex: 100000 entries, 0 to 99999\n",
            "Data columns (total 9 columns):\n",
            " #   Column               Non-Null Count   Dtype  \n",
            "---  ------               --------------   -----  \n",
            " 0   gender               100000 non-null  object \n",
            " 1   age                  100000 non-null  float64\n",
            " 2   hypertension         100000 non-null  int64  \n",
            " 3   heart_disease        100000 non-null  int64  \n",
            " 4   smoking_history      100000 non-null  object \n",
            " 5   bmi                  100000 non-null  float64\n",
            " 6   HbA1c_level          100000 non-null  float64\n",
            " 7   blood_glucose_level  100000 non-null  int64  \n",
            " 8   diabetes             100000 non-null  int64  \n",
            "dtypes: float64(3), int64(4), object(2)\n",
            "memory usage: 6.9+ MB\n"
          ]
        }
      ]
    },
    {
      "cell_type": "markdown",
      "source": [
        "### 5. 统计数据集糖尿病阳性与阴性数量占比，并可视化"
      ],
      "metadata": {
        "id": "_oWFMkcp6zzx"
      }
    },
    {
      "cell_type": "code",
      "source": [
        "import matplotlib.pyplot as plt\n",
        "# 统计diabetes列中“1”和“0”的数量\n",
        "diabetes_counts = diabetes_data['diabetes'].value_counts()\n",
        "\n",
        "# 自定义标签（\"Diabetes positive\" 和 \"Diabetes negative\"）\n",
        "labels = ['Diabetes negative', 'Diabetes positive']\n",
        "sizes = diabetes_counts.values  # 对应的数量（顺序与value_counts一致）\n",
        "colors = ['#ff9999', '#66b3ff']  # 颜色（可选）\n",
        "explode = (0.1, 0)  # 突出显示阳性（可选）\n",
        "\n",
        "# 创建饼图\n",
        "plt.figure(figsize=(8, 8))\n",
        "plt.pie(\n",
        "    sizes,\n",
        "    explode=explode,\n",
        "    labels=labels,\n",
        "    colors=colors,\n",
        "    autopct='%1.1f%%',  # 显示百分比\n",
        "    startangle=140,     # 起始角度\n",
        "    shadow=True         # 添加阴影（可选）\n",
        ")\n",
        "\n",
        "# 设置标题\n",
        "plt.title('Diabetes Status Distribution', fontsize=14, pad=20)\n",
        "\n",
        "# 确保饼图是正圆形\n",
        "plt.axis('equal')\n",
        "\n",
        "# 显示图形\n",
        "plt.show()"
      ],
      "metadata": {
        "colab": {
          "base_uri": "https://localhost:8080/",
          "height": 695
        },
        "id": "6bAEYVP_UUx2",
        "outputId": "4cdad80e-c32b-4903-c47e-83b07a851891"
      },
      "execution_count": null,
      "outputs": [
        {
          "output_type": "display_data",
          "data": {
            "text/plain": [
              "<Figure size 800x800 with 1 Axes>"
            ],
            "image/png": "[encoded data removed]"
          },
          "metadata": {}
        }
      ]
    },
    {
      "cell_type": "markdown",
      "source": [
        "### 6. 计算数值特征的相关性矩阵"
      ],
      "metadata": {
        "id": "0IZuSJqs7Dyh"
      }
    },
    {
      "cell_type": "code",
      "source": [
        "import seaborn as sns\n",
        "# 筛选数值列（排除 object 类型）\n",
        "numeric_cols = diabetes_data.select_dtypes(include=['float64', 'int64'])\n",
        "\n",
        "# 计算相关性矩阵\n",
        "correlation_matrix = numeric_cols.corr()\n",
        "\n",
        "# 可视化相关性矩阵（热力图）\n",
        "\n",
        "\n",
        "plt.figure(figsize=(10, 8))\n",
        "sns.heatmap(correlation_matrix, annot=True, cmap='coolwarm', fmt=\".2f\")\n",
        "plt.title(\"Numerical Features Correlation Matrix\")\n",
        "plt.show()\n"
      ],
      "metadata": {
        "colab": {
          "base_uri": "https://localhost:8080/",
          "height": 823
        },
        "id": "-h7IJ3ZEWXUv",
        "outputId": "a6172450-a066-4211-be5f-4dbe2f62f1e6"
      },
      "execution_count": null,
      "outputs": [
        {
          "output_type": "display_data",
          "data": {
            "text/plain": [
              "<Figure size 1000x800 with 2 Axes>"
            ],
            "image/png": "[encoded data removed]"
          },
          "metadata": {}
        }
      ]
    },
    {
      "cell_type": "markdown",
      "source": [
        "### 7. 查看吸烟情况分布"
      ],
      "metadata": {
        "id": "GsTKrFzW7LaB"
      }
    },
    {
      "cell_type": "code",
      "source": [
        "# 查看smoking_history列的分类数量\n",
        "category_count = diabetes_data['smoking_history'].nunique()\n",
        "print(f\"分类数量: {category_count}\")\n",
        "\n",
        "# 打印各独立分类及其频数\n",
        "print(\"\\n独立分类分布:\")\n",
        "print(diabetes_data['smoking_history'].value_counts())\n",
        "# 获取分类频数数据\n",
        "smoking_counts = diabetes_data['smoking_history'].value_counts()\n",
        "\n",
        "# 创建颜色映射\n",
        "colors = plt.cm.tab10(np.linspace(0, 1, len(smoking_counts)))\n",
        "\n",
        "# 创建条形图\n",
        "plt.figure(figsize=(10,6))\n",
        "bars = plt.bar(smoking_counts.index, smoking_counts.values, color=colors)\n",
        "\n",
        "# 添加数据标签\n",
        "for bar in bars:\n",
        "    height = bar.get_height()\n",
        "    plt.text(bar.get_x() + bar.get_width()/2., height,\n",
        "             f'{height:,}',\n",
        "             ha='center', va='bottom')\n",
        "\n",
        "# 设置图表属性\n",
        "plt.title('Smoking History Distribution', pad=20)\n",
        "plt.xlabel('Smoking Categories')\n",
        "plt.ylabel('Count')\n",
        "plt.xticks(rotation=45)\n",
        "plt.grid(axis='y', linestyle='--', alpha=0.7)\n",
        "\n",
        "# 显示图表\n",
        "plt.tight_layout()\n",
        "plt.show()"
      ],
      "metadata": {
        "colab": {
          "base_uri": "https://localhost:8080/",
          "height": 808
        },
        "id": "yFxCn8p3TbLI",
        "outputId": "55264b84-8513-4752-99ef-f8175b967861"
      },
      "execution_count": null,
      "outputs": [
        {
          "output_type": "stream",
          "name": "stdout",
          "text": [
            "分类数量: 6\n",
            "\n",
            "独立分类分布:\n",
            "smoking_history\n",
            "No Info        35816\n",
            "never          35095\n",
            "former          9352\n",
            "current         9286\n",
            "not current     6447\n",
            "ever            4004\n",
            "Name: count, dtype: int64\n"
          ]
        },
        {
          "output_type": "display_data",
          "data": {
            "text/plain": [
              "<Figure size 1000x600 with 1 Axes>"
            ],
            "image/png": "[encoded data removed]"
          },
          "metadata": {}
        }
      ]
    },
    {
      "cell_type": "markdown",
      "source": [
        "### 8. 检查吸烟分类与糖尿病的关系（排除`No Info`）"
      ],
      "metadata": {
        "id": "L2xwTUZD7W6h"
      }
    },
    {
      "cell_type": "code",
      "source": [
        "# 检查吸烟分类与糖尿病的关系（排除\"No Info\"）\n",
        "diabetes_data[diabetes_data['smoking_history'] != 'No Info']\\\n",
        "  .groupby('smoking_history')['diabetes'].mean().sort_values(ascending=False)\n"
      ],
      "metadata": {
        "colab": {
          "base_uri": "https://localhost:8080/",
          "height": 272
        },
        "id": "ByE44kppYSwe",
        "outputId": "409fb75a-eba5-4e6d-cd1f-9f40edd227cc"
      },
      "execution_count": null,
      "outputs": [
        {
          "output_type": "execute_result",
          "data": {
            "text/plain": [
              "smoking_history\n",
              "former         0.170017\n",
              "ever           0.117882\n",
              "not current    0.107027\n",
              "current        0.102089\n",
              "never          0.095341\n",
              "Name: diabetes, dtype: float64"
            ],
            "text/html": [
              "<div>\n",
              "<style scoped>\n",
              "    .dataframe tbody tr th:only-of-type {\n",
              "        vertical-align: middle;\n",
              "    }\n",
              "\n",
              "    .dataframe tbody tr th {\n",
              "        vertical-align: top;\n",
              "    }\n",
              "\n",
              "    .dataframe thead th {\n",
              "        text-align: right;\n",
              "    }\n",
              "</style>\n",
              "<table border=\"1\" class=\"dataframe\">\n",
              "  <thead>\n",
              "    <tr style=\"text-align: right;\">\n",
              "      <th></th>\n",
              "      <th>diabetes</th>\n",
              "    </tr>\n",
              "    <tr>\n",
              "      <th>smoking_history</th>\n",
              "      <th></th>\n",
              "    </tr>\n",
              "  </thead>\n",
              "  <tbody>\n",
              "    <tr>\n",
              "      <th>former</th>\n",
              "      <td>0.170017</td>\n",
              "    </tr>\n",
              "    <tr>\n",
              "      <th>ever</th>\n",
              "      <td>0.117882</td>\n",
              "    </tr>\n",
              "    <tr>\n",
              "      <th>not current</th>\n",
              "      <td>0.107027</td>\n",
              "    </tr>\n",
              "    <tr>\n",
              "      <th>current</th>\n",
              "      <td>0.102089</td>\n",
              "    </tr>\n",
              "    <tr>\n",
              "      <th>never</th>\n",
              "      <td>0.095341</td>\n",
              "    </tr>\n",
              "  </tbody>\n",
              "</table>\n",
              "</div><br><label><b>dtype:</b> float64</label>"
            ]
          },
          "metadata": {},
          "execution_count": 8
        }
      ]
    },
    {
      "cell_type": "markdown",
      "source": [
        "### 9. 进行卡方检验(Chi-square test)，用于分析糖尿病数据集(diabetes_data)中\"吸烟史\"(smoking_history)和\"糖尿病\"(diabetes)两个分类变量之间是否存在统计学上的显著关联。"
      ],
      "metadata": {
        "id": "XFTDD-KN7ykS"
      }
    },
    {
      "cell_type": "code",
      "source": [
        "from scipy.stats import chi2_contingency\n",
        "contingency_table = pd.crosstab(diabetes_data['smoking_history'], diabetes_data['diabetes'])\n",
        "chi2, p, _, _ = chi2_contingency(contingency_table)\n",
        "print(f\"p-value: {p:.4f}\")  # 若p<0.05则差异显著"
      ],
      "metadata": {
        "colab": {
          "base_uri": "https://localhost:8080/"
        },
        "id": "PSg1QYqBaen3",
        "outputId": "98bae9ec-25c1-4d6a-c3f6-e56391c8cb41"
      },
      "execution_count": null,
      "outputs": [
        {
          "output_type": "stream",
          "name": "stdout",
          "text": [
            "p-value: 0.0000\n"
          ]
        }
      ]
    },
    {
      "cell_type": "markdown",
      "source": [
        "### 10. 检查`No Info`组患病率"
      ],
      "metadata": {
        "id": "wpuPkPAq75tR"
      }
    },
    {
      "cell_type": "code",
      "source": [
        "no_info_rate = diabetes_data[diabetes_data['smoking_history'] == 'No Info']['diabetes'].mean()\n",
        "print(f\"No Info组患病率: {no_info_rate:.3f}\")"
      ],
      "metadata": {
        "colab": {
          "base_uri": "https://localhost:8080/"
        },
        "id": "CbJnFx6GbBbO",
        "outputId": "9252dc44-e36d-4fc1-cf2e-bf14430b2162"
      },
      "execution_count": null,
      "outputs": [
        {
          "output_type": "stream",
          "name": "stdout",
          "text": [
            "No Info组患病率: 0.041\n"
          ]
        }
      ]
    },
    {
      "cell_type": "markdown",
      "source": [
        "## 第二步：模型准备"
      ],
      "metadata": {
        "id": "Qj-St_cE8EUa"
      }
    },
    {
      "cell_type": "markdown",
      "source": [
        "### 11. 复制一份糖尿病数据集副本"
      ],
      "metadata": {
        "id": "1gf01jmP8NtZ"
      }
    },
    {
      "cell_type": "code",
      "source": [
        "df = diabetes_data.copy()"
      ],
      "metadata": {
        "id": "Z5tYqetjW_VP"
      },
      "execution_count": null,
      "outputs": []
    },
    {
      "cell_type": "markdown",
      "source": [
        "### 12. 对`'Gender`列进行二进制编码（Binary Encoding）"
      ],
      "metadata": {
        "id": "0wtJyJ5r8XKK"
      }
    },
    {
      "cell_type": "code",
      "source": [
        "# 对 'Gender' 进行二进制编码（Binary Encoding）\n",
        "df['gender'] = df['gender'].map({'Female': 0, 'Male': 1})"
      ],
      "metadata": {
        "id": "9duzLO6YYJE-"
      },
      "execution_count": null,
      "outputs": []
    },
    {
      "cell_type": "markdown",
      "source": [
        "### 13. 将`No Info`合并到`never`分类"
      ],
      "metadata": {
        "id": "fUKurFFc8gLK"
      }
    },
    {
      "cell_type": "code",
      "source": [
        "# 将\"No Info\"合并到'never'分类\n",
        "df['smoking_history'] = df['smoking_history'].replace('No Info', 'never')\n",
        "\n",
        "# 定义风险等级映射（数值越大风险越高）\n",
        "risk_order = {\n",
        "    'never': 0,\n",
        "    'current': 1,\n",
        "    'not current': 2,\n",
        "    'ever': 3,\n",
        "    'former': 4\n",
        "}\n",
        "\n",
        "# 进行序数编码\n",
        "df['smoking_history'] = df['smoking_history'].map(risk_order)"
      ],
      "metadata": {
        "id": "n3q7ArTQdUG-"
      },
      "execution_count": null,
      "outputs": []
    },
    {
      "cell_type": "markdown",
      "source": [
        "**步骤解读：**`No Info`组的患病率大约为4.1%，从不吸烟组`never`患病率大约为9.5%。所以将`No Info`合并到`never`组里。"
      ],
      "metadata": {
        "id": "sH_XI09iAaxZ"
      }
    },
    {
      "cell_type": "markdown",
      "source": [
        "## 第三步：建立模型"
      ],
      "metadata": {
        "id": "IN15SzS68pcp"
      }
    },
    {
      "cell_type": "markdown",
      "source": [
        "### 14. 定义目标变量和预测变量"
      ],
      "metadata": {
        "id": "JaP9lFbM8wPi"
      }
    },
    {
      "cell_type": "code",
      "source": [
        "# 定义目标变量和预测变量\n",
        "y = df['diabetes']  # 目标变量\n",
        "X = df.drop(columns=['diabetes'])  # 预测变量"
      ],
      "metadata": {
        "id": "gCHXZZO_d01u"
      },
      "execution_count": null,
      "outputs": []
    },
    {
      "cell_type": "markdown",
      "source": [
        "### 15. 分割数据\n",
        "\n",
        "将数据分为训练集(80%的数据)和测试集(20%的数据)。"
      ],
      "metadata": {
        "id": "wDV8uTbQ82Ia"
      }
    },
    {
      "cell_type": "code",
      "source": [
        "from sklearn.model_selection import train_test_split\n",
        "# 分层分割(保持原始比例)\n",
        "X_train, X_test, y_train, y_test = train_test_split(\n",
        "    X, y,\n",
        "    test_size=0.2,\n",
        "    stratify=y,  # 关键参数\n",
        "    random_state=42\n",
        ")"
      ],
      "metadata": {
        "id": "WVKdJ8aFflrO"
      },
      "execution_count": null,
      "outputs": []
    },
    {
      "cell_type": "markdown",
      "source": [
        "### 16. 设置超参数"
      ],
      "metadata": {
        "id": "Swg68KV187gK"
      }
    },
    {
      "cell_type": "code",
      "source": [
        "from sklearn.model_selection import GridSearchCV\n",
        "\n",
        "param_grid = {\n",
        "    'max_depth': [3, 5, 7],\n",
        "    'min_child_weight': [1, 3, 5],\n",
        "    'gamma': [0, 0.1, 0.2],\n",
        "    'subsample': [0.6, 0.8, 1.0],\n",
        "    'colsample_bytree': [0.6, 0.8, 1.0]\n",
        "}"
      ],
      "metadata": {
        "id": "XhQV57XXlZs2"
      },
      "execution_count": null,
      "outputs": []
    },
    {
      "cell_type": "markdown",
      "source": [
        "### 17. 初始化模型"
      ],
      "metadata": {
        "id": "Jdt1Rfag9EDJ"
      }
    },
    {
      "cell_type": "code",
      "source": [
        "from xgboost import XGBClassifier\n",
        "# XGBoost参数配置\n",
        "model = XGBClassifier(\n",
        "    scale_pos_weight=91.5/8.5,\n",
        "    eval_metric='logloss',\n",
        "    learning_rate=0.1\n",
        ")"
      ],
      "metadata": {
        "id": "4bXTO2DekFPe"
      },
      "execution_count": null,
      "outputs": []
    },
    {
      "cell_type": "markdown",
      "source": [
        "### 18. 训练模型"
      ],
      "metadata": {
        "id": "P2wLcHO29MKJ"
      }
    },
    {
      "cell_type": "code",
      "source": [
        "# 训练与评估\n",
        "grid_search = GridSearchCV(model, param_grid, cv=3, scoring='f1')\n",
        "grid_search.fit(X_train, y_train)"
      ],
      "metadata": {
        "id": "SjxbIFKrkw4G",
        "colab": {
          "base_uri": "https://localhost:8080/",
          "height": 166
        },
        "outputId": "254a54d5-e3e0-4e10-f107-2a2eaeea1bc9"
      },
      "execution_count": null,
      "outputs": [
        {
          "output_type": "execute_result",
          "data": {
            "text/plain": [
              "GridSearchCV(cv=3,\n",
              "             estimator=XGBClassifier(base_score=None, booster=None,\n",
              "                                     callbacks=None, colsample_bylevel=None,\n",
              "                                     colsample_bynode=None,\n",
              "                                     colsample_bytree=None, device=None,\n",
              "                                     early_stopping_rounds=None,\n",
              "                                     enable_categorical=False,\n",
              "                                     eval_metric='logloss', feature_types=None,\n",
              "                                     gamma=None, grow_policy=None,\n",
              "                                     importance_type=None,\n",
              "                                     interaction_constraints=None,\n",
              "                                     learning_rate=...\n",
              "                                     max_delta_step=None, max_depth=None,\n",
              "                                     max_leaves=None, min_child_weight=None,\n",
              "                                     missing=nan, monotone_constraints=None,\n",
              "                                     multi_strategy=None, n_estimators=None,\n",
              "                                     n_jobs=None, num_parallel_tree=None,\n",
              "                                     random_state=None, ...),\n",
              "             param_grid={'colsample_bytree': [0.6, 0.8, 1.0],\n",
              "                         'gamma': [0, 0.1, 0.2], 'max_depth': [3, 5, 7],\n",
              "                         'min_child_weight': [1, 3, 5],\n",
              "                         'subsample': [0.6, 0.8, 1.0]},\n",
              "             scoring='f1')"
            ],
            "text/html": [
              "<style>#sk-container-id-1 {\n",
              "  /* Definition of color scheme common for light and dark mode */\n",
              "  --sklearn-color-text: #000;\n",
              "  --sklearn-color-text-muted: #666;\n",
              "  --sklearn-color-line: gray;\n",
              "  /* Definition of color scheme for unfitted estimators */\n",
              "  --sklearn-color-unfitted-level-0: #fff5e6;\n",
              "  --sklearn-color-unfitted-level-1: #f6e4d2;\n",
              "  --sklearn-color-unfitted-level-2: #ffe0b3;\n",
              "  --sklearn-color-unfitted-level-3: chocolate;\n",
              "  /* Definition of color scheme for fitted estimators */\n",
              "  --sklearn-color-fitted-level-0: #f0f8ff;\n",
              "  --sklearn-color-fitted-level-1: #d4ebff;\n",
              "  --sklearn-color-fitted-level-2: #b3dbfd;\n",
              "  --sklearn-color-fitted-level-3: cornflowerblue;\n",
              "\n",
              "  /* Specific color for light theme */\n",
              "  --sklearn-color-text-on-default-background: var(--sg-text-color, var(--theme-code-foreground, var(--jp-content-font-color1, black)));\n",
              "  --sklearn-color-background: var(--sg-background-color, var(--theme-background, var(--jp-layout-color0, white)));\n",
              "  --sklearn-color-border-box: var(--sg-text-color, var(--theme-code-foreground, var(--jp-content-font-color1, black)));\n",
              "  --sklearn-color-icon: #696969;\n",
              "\n",
              "  @media (prefers-color-scheme: dark) {\n",
              "    /* Redefinition of color scheme for dark theme */\n",
              "    --sklearn-color-text-on-default-background: var(--sg-text-color, var(--theme-code-foreground, var(--jp-content-font-color1, white)));\n",
              "    --sklearn-color-background: var(--sg-background-color, var(--theme-background, var(--jp-layout-color0, #111)));\n",
              "    --sklearn-color-border-box: var(--sg-text-color, var(--theme-code-foreground, var(--jp-content-font-color1, white)));\n",
              "    --sklearn-color-icon: #878787;\n",
              "  }\n",
              "}\n",
              "\n",
              "#sk-container-id-1 {\n",
              "  color: var(--sklearn-color-text);\n",
              "}\n",
              "\n",
              "#sk-container-id-1 pre {\n",
              "  padding: 0;\n",
              "}\n",
              "\n",
              "#sk-container-id-1 input.sk-hidden--visually {\n",
              "  border: 0;\n",
              "  clip: rect(1px 1px 1px 1px);\n",
              "  clip: rect(1px, 1px, 1px, 1px);\n",
              "  height: 1px;\n",
              "  margin: -1px;\n",
              "  overflow: hidden;\n",
              "  padding: 0;\n",
              "  position: absolute;\n",
              "  width: 1px;\n",
              "}\n",
              "\n",
              "#sk-container-id-1 div.sk-dashed-wrapped {\n",
              "  border: 1px dashed var(--sklearn-color-line);\n",
              "  margin: 0 0.4em 0.5em 0.4em;\n",
              "  box-sizing: border-box;\n",
              "  padding-bottom: 0.4em;\n",
              "  background-color: var(--sklearn-color-background);\n",
              "}\n",
              "\n",
              "#sk-container-id-1 div.sk-container {\n",
              "  /* jupyter's `normalize.less` sets `[hidden] { display: none; }`\n",
              "     but bootstrap.min.css set `[hidden] { display: none !important; }`\n",
              "     so we also need the `!important` here to be able to override the\n",
              "     default hidden behavior on the sphinx rendered scikit-learn.org.\n",
              "     See: https://github.com/scikit-learn/scikit-learn/issues/21755 */\n",
              "  display: inline-block !important;\n",
              "  position: relative;\n",
              "}\n",
              "\n",
              "#sk-container-id-1 div.sk-text-repr-fallback {\n",
              "  display: none;\n",
              "}\n",
              "\n",
              "div.sk-parallel-item,\n",
              "div.sk-serial,\n",
              "div.sk-item {\n",
              "  /* draw centered vertical line to link estimators */\n",
              "  background-image: linear-gradient(var(--sklearn-color-text-on-default-background), var(--sklearn-color-text-on-default-background));\n",
              "  background-size: 2px 100%;\n",
              "  background-repeat: no-repeat;\n",
              "  background-position: center center;\n",
              "}\n",
              "\n",
              "/* Parallel-specific style estimator block */\n",
              "\n",
              "#sk-container-id-1 div.sk-parallel-item::after {\n",
              "  content: \"\";\n",
              "  width: 100%;\n",
              "  border-bottom: 2px solid var(--sklearn-color-text-on-default-background);\n",
              "  flex-grow: 1;\n",
              "}\n",
              "\n",
              "#sk-container-id-1 div.sk-parallel {\n",
              "  display: flex;\n",
              "  align-items: stretch;\n",
              "  justify-content: center;\n",
              "  background-color: var(--sklearn-color-background);\n",
              "  position: relative;\n",
              "}\n",
              "\n",
              "#sk-container-id-1 div.sk-parallel-item {\n",
              "  display: flex;\n",
              "  flex-direction: column;\n",
              "}\n",
              "\n",
              "#sk-container-id-1 div.sk-parallel-item:first-child::after {\n",
              "  align-self: flex-end;\n",
              "  width: 50%;\n",
              "}\n",
              "\n",
              "#sk-container-id-1 div.sk-parallel-item:last-child::after {\n",
              "  align-self: flex-start;\n",
              "  width: 50%;\n",
              "}\n",
              "\n",
              "#sk-container-id-1 div.sk-parallel-item:only-child::after {\n",
              "  width: 0;\n",
              "}\n",
              "\n",
              "/* Serial-specific style estimator block */\n",
              "\n",
              "#sk-container-id-1 div.sk-serial {\n",
              "  display: flex;\n",
              "  flex-direction: column;\n",
              "  align-items: center;\n",
              "  background-color: var(--sklearn-color-background);\n",
              "  padding-right: 1em;\n",
              "  padding-left: 1em;\n",
              "}\n",
              "\n",
              "\n",
              "/* Toggleable style: style used for estimator/Pipeline/ColumnTransformer box that is\n",
              "clickable and can be expanded/collapsed.\n",
              "- Pipeline and ColumnTransformer use this feature and define the default style\n",
              "- Estimators will overwrite some part of the style using the `sk-estimator` class\n",
              "*/\n",
              "\n",
              "/* Pipeline and ColumnTransformer style (default) */\n",
              "\n",
              "#sk-container-id-1 div.sk-toggleable {\n",
              "  /* Default theme specific background. It is overwritten whether we have a\n",
              "  specific estimator or a Pipeline/ColumnTransformer */\n",
              "  background-color: var(--sklearn-color-background);\n",
              "}\n",
              "\n",
              "/* Toggleable label */\n",
              "#sk-container-id-1 label.sk-toggleable__label {\n",
              "  cursor: pointer;\n",
              "  display: flex;\n",
              "  width: 100%;\n",
              "  margin-bottom: 0;\n",
              "  padding: 0.5em;\n",
              "  box-sizing: border-box;\n",
              "  text-align: center;\n",
              "  align-items: start;\n",
              "  justify-content: space-between;\n",
              "  gap: 0.5em;\n",
              "}\n",
              "\n",
              "#sk-container-id-1 label.sk-toggleable__label .caption {\n",
              "  font-size: 0.6rem;\n",
              "  font-weight: lighter;\n",
              "  color: var(--sklearn-color-text-muted);\n",
              "}\n",
              "\n",
              "#sk-container-id-1 label.sk-toggleable__label-arrow:before {\n",
              "  /* Arrow on the left of the label */\n",
              "  content: \"▸\";\n",
              "  float: left;\n",
              "  margin-right: 0.25em;\n",
              "  color: var(--sklearn-color-icon);\n",
              "}\n",
              "\n",
              "#sk-container-id-1 label.sk-toggleable__label-arrow:hover:before {\n",
              "  color: var(--sklearn-color-text);\n",
              "}\n",
              "\n",
              "/* Toggleable content - dropdown */\n",
              "\n",
              "#sk-container-id-1 div.sk-toggleable__content {\n",
              "  max-height: 0;\n",
              "  max-width: 0;\n",
              "  overflow: hidden;\n",
              "  text-align: left;\n",
              "  /* unfitted */\n",
              "  background-color: var(--sklearn-color-unfitted-level-0);\n",
              "}\n",
              "\n",
              "#sk-container-id-1 div.sk-toggleable__content.fitted {\n",
              "  /* fitted */\n",
              "  background-color: var(--sklearn-color-fitted-level-0);\n",
              "}\n",
              "\n",
              "#sk-container-id-1 div.sk-toggleable__content pre {\n",
              "  margin: 0.2em;\n",
              "  border-radius: 0.25em;\n",
              "  color: var(--sklearn-color-text);\n",
              "  /* unfitted */\n",
              "  background-color: var(--sklearn-color-unfitted-level-0);\n",
              "}\n",
              "\n",
              "#sk-container-id-1 div.sk-toggleable__content.fitted pre {\n",
              "  /* unfitted */\n",
              "  background-color: var(--sklearn-color-fitted-level-0);\n",
              "}\n",
              "\n",
              "#sk-container-id-1 input.sk-toggleable__control:checked~div.sk-toggleable__content {\n",
              "  /* Expand drop-down */\n",
              "  max-height: 200px;\n",
              "  max-width: 100%;\n",
              "  overflow: auto;\n",
              "}\n",
              "\n",
              "#sk-container-id-1 input.sk-toggleable__control:checked~label.sk-toggleable__label-arrow:before {\n",
              "  content: \"▾\";\n",
              "}\n",
              "\n",
              "/* Pipeline/ColumnTransformer-specific style */\n",
              "\n",
              "#sk-container-id-1 div.sk-label input.sk-toggleable__control:checked~label.sk-toggleable__label {\n",
              "  color: var(--sklearn-color-text);\n",
              "  background-color: var(--sklearn-color-unfitted-level-2);\n",
              "}\n",
              "\n",
              "#sk-container-id-1 div.sk-label.fitted input.sk-toggleable__control:checked~label.sk-toggleable__label {\n",
              "  background-color: var(--sklearn-color-fitted-level-2);\n",
              "}\n",
              "\n",
              "/* Estimator-specific style */\n",
              "\n",
              "/* Colorize estimator box */\n",
              "#sk-container-id-1 div.sk-estimator input.sk-toggleable__control:checked~label.sk-toggleable__label {\n",
              "  /* unfitted */\n",
              "  background-color: var(--sklearn-color-unfitted-level-2);\n",
              "}\n",
              "\n",
              "#sk-container-id-1 div.sk-estimator.fitted input.sk-toggleable__control:checked~label.sk-toggleable__label {\n",
              "  /* fitted */\n",
              "  background-color: var(--sklearn-color-fitted-level-2);\n",
              "}\n",
              "\n",
              "#sk-container-id-1 div.sk-label label.sk-toggleable__label,\n",
              "#sk-container-id-1 div.sk-label label {\n",
              "  /* The background is the default theme color */\n",
              "  color: var(--sklearn-color-text-on-default-background);\n",
              "}\n",
              "\n",
              "/* On hover, darken the color of the background */\n",
              "#sk-container-id-1 div.sk-label:hover label.sk-toggleable__label {\n",
              "  color: var(--sklearn-color-text);\n",
              "  background-color: var(--sklearn-color-unfitted-level-2);\n",
              "}\n",
              "\n",
              "/* Label box, darken color on hover, fitted */\n",
              "#sk-container-id-1 div.sk-label.fitted:hover label.sk-toggleable__label.fitted {\n",
              "  color: var(--sklearn-color-text);\n",
              "  background-color: var(--sklearn-color-fitted-level-2);\n",
              "}\n",
              "\n",
              "/* Estimator label */\n",
              "\n",
              "#sk-container-id-1 div.sk-label label {\n",
              "  font-family: monospace;\n",
              "  font-weight: bold;\n",
              "  display: inline-block;\n",
              "  line-height: 1.2em;\n",
              "}\n",
              "\n",
              "#sk-container-id-1 div.sk-label-container {\n",
              "  text-align: center;\n",
              "}\n",
              "\n",
              "/* Estimator-specific */\n",
              "#sk-container-id-1 div.sk-estimator {\n",
              "  font-family: monospace;\n",
              "  border: 1px dotted var(--sklearn-color-border-box);\n",
              "  border-radius: 0.25em;\n",
              "  box-sizing: border-box;\n",
              "  margin-bottom: 0.5em;\n",
              "  /* unfitted */\n",
              "  background-color: var(--sklearn-color-unfitted-level-0);\n",
              "}\n",
              "\n",
              "#sk-container-id-1 div.sk-estimator.fitted {\n",
              "  /* fitted */\n",
              "  background-color: var(--sklearn-color-fitted-level-0);\n",
              "}\n",
              "\n",
              "/* on hover */\n",
              "#sk-container-id-1 div.sk-estimator:hover {\n",
              "  /* unfitted */\n",
              "  background-color: var(--sklearn-color-unfitted-level-2);\n",
              "}\n",
              "\n",
              "#sk-container-id-1 div.sk-estimator.fitted:hover {\n",
              "  /* fitted */\n",
              "  background-color: var(--sklearn-color-fitted-level-2);\n",
              "}\n",
              "\n",
              "/* Specification for estimator info (e.g. \"i\" and \"?\") */\n",
              "\n",
              "/* Common style for \"i\" and \"?\" */\n",
              "\n",
              ".sk-estimator-doc-link,\n",
              "a:link.sk-estimator-doc-link,\n",
              "a:visited.sk-estimator-doc-link {\n",
              "  float: right;\n",
              "  font-size: smaller;\n",
              "  line-height: 1em;\n",
              "  font-family: monospace;\n",
              "  background-color: var(--sklearn-color-background);\n",
              "  border-radius: 1em;\n",
              "  height: 1em;\n",
              "  width: 1em;\n",
              "  text-decoration: none !important;\n",
              "  margin-left: 0.5em;\n",
              "  text-align: center;\n",
              "  /* unfitted */\n",
              "  border: var(--sklearn-color-unfitted-level-1) 1pt solid;\n",
              "  color: var(--sklearn-color-unfitted-level-1);\n",
              "}\n",
              "\n",
              ".sk-estimator-doc-link.fitted,\n",
              "a:link.sk-estimator-doc-link.fitted,\n",
              "a:visited.sk-estimator-doc-link.fitted {\n",
              "  /* fitted */\n",
              "  border: var(--sklearn-color-fitted-level-1) 1pt solid;\n",
              "  color: var(--sklearn-color-fitted-level-1);\n",
              "}\n",
              "\n",
              "/* On hover */\n",
              "div.sk-estimator:hover .sk-estimator-doc-link:hover,\n",
              ".sk-estimator-doc-link:hover,\n",
              "div.sk-label-container:hover .sk-estimator-doc-link:hover,\n",
              ".sk-estimator-doc-link:hover {\n",
              "  /* unfitted */\n",
              "  background-color: var(--sklearn-color-unfitted-level-3);\n",
              "  color: var(--sklearn-color-background);\n",
              "  text-decoration: none;\n",
              "}\n",
              "\n",
              "div.sk-estimator.fitted:hover .sk-estimator-doc-link.fitted:hover,\n",
              ".sk-estimator-doc-link.fitted:hover,\n",
              "div.sk-label-container:hover .sk-estimator-doc-link.fitted:hover,\n",
              ".sk-estimator-doc-link.fitted:hover {\n",
              "  /* fitted */\n",
              "  background-color: var(--sklearn-color-fitted-level-3);\n",
              "  color: var(--sklearn-color-background);\n",
              "  text-decoration: none;\n",
              "}\n",
              "\n",
              "/* Span, style for the box shown on hovering the info icon */\n",
              ".sk-estimator-doc-link span {\n",
              "  display: none;\n",
              "  z-index: 9999;\n",
              "  position: relative;\n",
              "  font-weight: normal;\n",
              "  right: .2ex;\n",
              "  padding: .5ex;\n",
              "  margin: .5ex;\n",
              "  width: min-content;\n",
              "  min-width: 20ex;\n",
              "  max-width: 50ex;\n",
              "  color: var(--sklearn-color-text);\n",
              "  box-shadow: 2pt 2pt 4pt #999;\n",
              "  /* unfitted */\n",
              "  background: var(--sklearn-color-unfitted-level-0);\n",
              "  border: .5pt solid var(--sklearn-color-unfitted-level-3);\n",
              "}\n",
              "\n",
              ".sk-estimator-doc-link.fitted span {\n",
              "  /* fitted */\n",
              "  background: var(--sklearn-color-fitted-level-0);\n",
              "  border: var(--sklearn-color-fitted-level-3);\n",
              "}\n",
              "\n",
              ".sk-estimator-doc-link:hover span {\n",
              "  display: block;\n",
              "}\n",
              "\n",
              "/* \"?\"-specific style due to the `<a>` HTML tag */\n",
              "\n",
              "#sk-container-id-1 a.estimator_doc_link {\n",
              "  float: right;\n",
              "  font-size: 1rem;\n",
              "  line-height: 1em;\n",
              "  font-family: monospace;\n",
              "  background-color: var(--sklearn-color-background);\n",
              "  border-radius: 1rem;\n",
              "  height: 1rem;\n",
              "  width: 1rem;\n",
              "  text-decoration: none;\n",
              "  /* unfitted */\n",
              "  color: var(--sklearn-color-unfitted-level-1);\n",
              "  border: var(--sklearn-color-unfitted-level-1) 1pt solid;\n",
              "}\n",
              "\n",
              "#sk-container-id-1 a.estimator_doc_link.fitted {\n",
              "  /* fitted */\n",
              "  border: var(--sklearn-color-fitted-level-1) 1pt solid;\n",
              "  color: var(--sklearn-color-fitted-level-1);\n",
              "}\n",
              "\n",
              "/* On hover */\n",
              "#sk-container-id-1 a.estimator_doc_link:hover {\n",
              "  /* unfitted */\n",
              "  background-color: var(--sklearn-color-unfitted-level-3);\n",
              "  color: var(--sklearn-color-background);\n",
              "  text-decoration: none;\n",
              "}\n",
              "\n",
              "#sk-container-id-1 a.estimator_doc_link.fitted:hover {\n",
              "  /* fitted */\n",
              "  background-color: var(--sklearn-color-fitted-level-3);\n",
              "}\n",
              "</style><div id=\"sk-container-id-1\" class=\"sk-top-container\"><div class=\"sk-text-repr-fallback\"><pre>GridSearchCV(cv=3,\n",
              "             estimator=XGBClassifier(base_score=None, booster=None,\n",
              "                                     callbacks=None, colsample_bylevel=None,\n",
              "                                     colsample_bynode=None,\n",
              "                                     colsample_bytree=None, device=None,\n",
              "                                     early_stopping_rounds=None,\n",
              "                                     enable_categorical=False,\n",
              "                                     eval_metric=&#x27;logloss&#x27;, feature_types=None,\n",
              "                                     gamma=None, grow_policy=None,\n",
              "                                     importance_type=None,\n",
              "                                     interaction_constraints=None,\n",
              "                                     learning_rate=...\n",
              "                                     max_delta_step=None, max_depth=None,\n",
              "                                     max_leaves=None, min_child_weight=None,\n",
              "                                     missing=nan, monotone_constraints=None,\n",
              "                                     multi_strategy=None, n_estimators=None,\n",
              "                                     n_jobs=None, num_parallel_tree=None,\n",
              "                                     random_state=None, ...),\n",
              "             param_grid={&#x27;colsample_bytree&#x27;: [0.6, 0.8, 1.0],\n",
              "                         &#x27;gamma&#x27;: [0, 0.1, 0.2], &#x27;max_depth&#x27;: [3, 5, 7],\n",
              "                         &#x27;min_child_weight&#x27;: [1, 3, 5],\n",
              "                         &#x27;subsample&#x27;: [0.6, 0.8, 1.0]},\n",
              "             scoring=&#x27;f1&#x27;)</pre><b>In a Jupyter environment, please rerun this cell to show the HTML representation or trust the notebook. <br />On GitHub, the HTML representation is unable to render, please try loading this page with nbviewer.org.</b></div><div class=\"sk-container\" hidden><div class=\"sk-item sk-dashed-wrapped\"><div class=\"sk-label-container\"><div class=\"sk-label fitted sk-toggleable\"><input class=\"sk-toggleable__control sk-hidden--visually\" id=\"sk-estimator-id-1\" type=\"checkbox\" ><label for=\"sk-estimator-id-1\" class=\"sk-toggleable__label fitted sk-toggleable__label-arrow\"><div><div>GridSearchCV</div></div><div><a class=\"sk-estimator-doc-link fitted\" rel=\"noreferrer\" target=\"_blank\" href=\"https://scikit-learn.org/1.6/modules/generated/sklearn.model_selection.GridSearchCV.html\">?<span>Documentation for GridSearchCV</span></a><span class=\"sk-estimator-doc-link fitted\">i<span>Fitted</span></span></div></label><div class=\"sk-toggleable__content fitted\"><pre>GridSearchCV(cv=3,\n",
              "             estimator=XGBClassifier(base_score=None, booster=None,\n",
              "                                     callbacks=None, colsample_bylevel=None,\n",
              "                                     colsample_bynode=None,\n",
              "                                     colsample_bytree=None, device=None,\n",
              "                                     early_stopping_rounds=None,\n",
              "                                     enable_categorical=False,\n",
              "                                     eval_metric=&#x27;logloss&#x27;, feature_types=None,\n",
              "                                     gamma=None, grow_policy=None,\n",
              "                                     importance_type=None,\n",
              "                                     interaction_constraints=None,\n",
              "                                     learning_rate=...\n",
              "                                     max_delta_step=None, max_depth=None,\n",
              "                                     max_leaves=None, min_child_weight=None,\n",
              "                                     missing=nan, monotone_constraints=None,\n",
              "                                     multi_strategy=None, n_estimators=None,\n",
              "                                     n_jobs=None, num_parallel_tree=None,\n",
              "                                     random_state=None, ...),\n",
              "             param_grid={&#x27;colsample_bytree&#x27;: [0.6, 0.8, 1.0],\n",
              "                         &#x27;gamma&#x27;: [0, 0.1, 0.2], &#x27;max_depth&#x27;: [3, 5, 7],\n",
              "                         &#x27;min_child_weight&#x27;: [1, 3, 5],\n",
              "                         &#x27;subsample&#x27;: [0.6, 0.8, 1.0]},\n",
              "             scoring=&#x27;f1&#x27;)</pre></div> </div></div><div class=\"sk-parallel\"><div class=\"sk-parallel-item\"><div class=\"sk-item\"><div class=\"sk-label-container\"><div class=\"sk-label fitted sk-toggleable\"><input class=\"sk-toggleable__control sk-hidden--visually\" id=\"sk-estimator-id-2\" type=\"checkbox\" ><label for=\"sk-estimator-id-2\" class=\"sk-toggleable__label fitted sk-toggleable__label-arrow\"><div><div>best_estimator_: XGBClassifier</div></div></label><div class=\"sk-toggleable__content fitted\"><pre>XGBClassifier(base_score=None, booster=None, callbacks=None,\n",
              "              colsample_bylevel=None, colsample_bynode=None,\n",
              "              colsample_bytree=1.0, device=None, early_stopping_rounds=None,\n",
              "              enable_categorical=False, eval_metric=&#x27;logloss&#x27;,\n",
              "              feature_types=None, gamma=0.2, grow_policy=None,\n",
              "              importance_type=None, interaction_constraints=None,\n",
              "              learning_rate=0.1, max_bin=None, max_cat_threshold=None,\n",
              "              max_cat_to_onehot=None, max_delta_step=None, max_depth=7,\n",
              "              max_leaves=None, min_child_weight=1, missing=nan,\n",
              "              monotone_constraints=None, multi_strategy=None, n_estimators=None,\n",
              "              n_jobs=None, num_parallel_tree=None, random_state=None, ...)</pre></div> </div></div><div class=\"sk-serial\"><div class=\"sk-item\"><div class=\"sk-estimator fitted sk-toggleable\"><input class=\"sk-toggleable__control sk-hidden--visually\" id=\"sk-estimator-id-3\" type=\"checkbox\" ><label for=\"sk-estimator-id-3\" class=\"sk-toggleable__label fitted sk-toggleable__label-arrow\"><div><div>XGBClassifier</div></div></label><div class=\"sk-toggleable__content fitted\"><pre>XGBClassifier(base_score=None, booster=None, callbacks=None,\n",
              "              colsample_bylevel=None, colsample_bynode=None,\n",
              "              colsample_bytree=1.0, device=None, early_stopping_rounds=None,\n",
              "              enable_categorical=False, eval_metric=&#x27;logloss&#x27;,\n",
              "              feature_types=None, gamma=0.2, grow_policy=None,\n",
              "              importance_type=None, interaction_constraints=None,\n",
              "              learning_rate=0.1, max_bin=None, max_cat_threshold=None,\n",
              "              max_cat_to_onehot=None, max_delta_step=None, max_depth=7,\n",
              "              max_leaves=None, min_child_weight=1, missing=nan,\n",
              "              monotone_constraints=None, multi_strategy=None, n_estimators=None,\n",
              "              n_jobs=None, num_parallel_tree=None, random_state=None, ...)</pre></div> </div></div></div></div></div></div></div></div></div>"
            ]
          },
          "metadata": {},
          "execution_count": 18
        }
      ]
    },
    {
      "cell_type": "markdown",
      "source": [
        "### 19. 选择最佳模型"
      ],
      "metadata": {
        "id": "Vh_bV5689QKh"
      }
    },
    {
      "cell_type": "code",
      "source": [
        "best_model = grid_search.best_estimator_"
      ],
      "metadata": {
        "id": "_MYXXT0dkF-O"
      },
      "execution_count": null,
      "outputs": []
    },
    {
      "cell_type": "markdown",
      "source": [
        "### 20. 保存最佳模型"
      ],
      "metadata": {
        "id": "VoXGC4359VGK"
      }
    },
    {
      "cell_type": "code",
      "source": [
        "import joblib\n",
        "joblib.dump(best_model, \"best_model.pkl\")"
      ],
      "metadata": {
        "colab": {
          "base_uri": "https://localhost:8080/"
        },
        "id": "U0iCAt3CprLe",
        "outputId": "a76670e5-be1c-40ae-8028-6c8e768ce06c"
      },
      "execution_count": null,
      "outputs": [
        {
          "output_type": "execute_result",
          "data": {
            "text/plain": [
              "['best_model.pkl']"
            ]
          },
          "metadata": {},
          "execution_count": 20
        }
      ]
    },
    {
      "cell_type": "markdown",
      "source": [
        "### 21. 加载最佳模型"
      ],
      "metadata": {
        "id": "_6GWD8Ci9aCB"
      }
    },
    {
      "cell_type": "code",
      "source": [
        "# 加载最佳模型\n",
        "loaded_best_model = joblib.load(\"best_model.pkl\")"
      ],
      "metadata": {
        "id": "lzlKdCkhp9e2"
      },
      "execution_count": null,
      "outputs": []
    },
    {
      "cell_type": "markdown",
      "source": [
        "### 22. 使用已加载的最佳机器学习模型(loaded_best_model)对测试集数据(`X_test`)进行预测，并将预测结果存储在变量`y_pred`中"
      ],
      "metadata": {
        "id": "SmdQ4iHW9fJ5"
      }
    },
    {
      "cell_type": "code",
      "source": [
        "y_pred = loaded_best_model.predict(X_test)"
      ],
      "metadata": {
        "id": "SH6JCPL9pwoO"
      },
      "execution_count": null,
      "outputs": []
    },
    {
      "cell_type": "markdown",
      "source": [
        "### 23. 输出模型评估报告"
      ],
      "metadata": {
        "id": "ImMci5kU9yVi"
      }
    },
    {
      "cell_type": "code",
      "source": [
        "from sklearn.metrics import accuracy_score, precision_score, recall_score, f1_score\n",
        "# 计算核心指标\n",
        "accuracy = accuracy_score(y_test, y_pred)\n",
        "precision = precision_score(y_test, y_pred)  # 精确率：预测为正的样本中实际为正的比例\n",
        "recall = recall_score(y_test, y_pred)       # 召回率：实际为正的样本中被正确预测的比例\n",
        "f1 = f1_score(y_test, y_pred)               # F1：精确率和召回率的调和平均\n",
        "\n",
        "# 格式化输出（保留4位小数）\n",
        "print(f\"【模型评估报告】\\n\"\n",
        "      f\"准确率(Accuracy): {accuracy:.4f}\\n\"\n",
        "      f\"精确率(Precision): {precision:.4f}\\n\"\n",
        "      f\"召回率(Recall): {recall:.4f}\\n\"\n",
        "      f\"F1值: {f1:.4f}\")"
      ],
      "metadata": {
        "colab": {
          "base_uri": "https://localhost:8080/"
        },
        "id": "Ej-u4-46oF_e",
        "outputId": "07b629c0-308c-4a18-a590-ee24d1c6bc49"
      },
      "execution_count": null,
      "outputs": [
        {
          "output_type": "stream",
          "name": "stdout",
          "text": [
            "【模型评估报告】\n",
            "准确率(Accuracy): 0.9101\n",
            "精确率(Precision): 0.4844\n",
            "召回率(Recall): 0.9053\n",
            "F1值: 0.6311\n"
          ]
        }
      ]
    },
    {
      "cell_type": "markdown",
      "source": [
        "#### 模型评估报告解读\n",
        "\n",
        "这份评估报告显示了您的糖尿病预测模型的性能指标，从中可以看出几个关键信息：\n",
        "\n",
        "#### 指标含义与解读\n",
        "\n",
        "1. **准确率(Accuracy)=0.9101(91.01%)**\n",
        "   - 模型整体预测正确率很高\n",
        "   - 但单独看这个指标会误导，需要结合其他指标\n",
        "\n",
        "2. **精确率(Precision)=0.4844(48.44%)**\n",
        "   - 当模型预测为\"糖尿病\"时，只有48.44%是真的患者\n",
        "   - 说明有很多\"假阳性\"(健康人被误判为糖尿病)\n",
        "\n",
        "3. **召回率(Recall)=0.9053(90.53%)**\n",
        "   - 能检测出90.53%的实际糖尿病患者\n",
        "   - 漏诊率较低(只有约9.47%的患者被漏掉)\n",
        "\n",
        "4. **F1值=0.6311**\n",
        "   - 精确率和召回率的调和平均数\n",
        "   - 显示模型在两者间的平衡表现一般\n",
        "\n",
        "#### 模型表现分析\n",
        "\n",
        "1. **这是一个高召回率、低精确率的模型**\n",
        "   - 非常适合**筛查场景**：宁可错报一些健康人，也不愿漏掉真正的患者\n",
        "   - 不适合**确诊场景**：因为误诊率太高(约51.56%的非患者会被错误标记)\n",
        "\n",
        "2. **可能的数据不平衡问题**\n",
        "   - 高准确率+低精确率通常表明数据集中非糖尿病患者远多于患者\n",
        "   - 模型通过\"多数预测为阴性\"就能获得高准确率"
      ],
      "metadata": {
        "id": "o8-21t2SCBhq"
      }
    },
    {
      "cell_type": "markdown",
      "source": [
        "### 24. 建立混淆矩阵"
      ],
      "metadata": {
        "id": "5kXDIbXS97jK"
      }
    },
    {
      "cell_type": "code",
      "source": [
        "# 创建混淆矩阵\n",
        "from sklearn.metrics import confusion_matrix, ConfusionMatrixDisplay\n",
        "\n",
        "# 计算混淆矩阵\n",
        "cm = confusion_matrix(y_test, y_pred)\n",
        "\n",
        "# 可视化混淆矩阵\n",
        "disp = ConfusionMatrixDisplay(confusion_matrix=cm, display_labels=['No Diabetes', 'Diabetes'])\n",
        "disp.plot(cmap='Blues', values_format='d')  # 'd'表示显示整数格式\n",
        "\n",
        "# 添加标题\n",
        "plt.title('Confusion Matrix for Diabetes Prediction')\n",
        "\n",
        "# 显示图形\n",
        "plt.show()"
      ],
      "metadata": {
        "colab": {
          "base_uri": "https://localhost:8080/",
          "height": 472
        },
        "id": "l_L2812v407q",
        "outputId": "a564bba5-0a48-4ae5-be0f-3ec7c67be59b"
      },
      "execution_count": null,
      "outputs": [
        {
          "output_type": "display_data",
          "data": {
            "text/plain": [
              "<Figure size 640x480 with 2 Axes>"
            ],
            "image/png": "[encoded data removed]"
          },
          "metadata": {}
        }
      ]
    },
    {
      "cell_type": "markdown",
      "source": [
        "#### 糖尿病预测混淆矩阵解读\n",
        "#### 关键指标计算\n",
        "\n",
        "1. **真阴性(TN)**：16,662 (实际无糖尿病且预测正确)\n",
        "2. **假阳性(FP)**：1,638 (实际无糖尿病但误预测为有糖尿病)\n",
        "3. **假阴性(FN)**：161 (实际有糖尿病但漏诊)\n",
        "4. **真阳性(TP)**：1,539 (实际有糖尿病且预测正确)\n",
        "\n",
        "#### 性能指标验证\n",
        "\n",
        "根据之前提供的评估报告，我们可以验证这些指标：\n",
        "\n",
        "1. **准确率(Accuracy)** = (TP+TN)/(TP+TN+FP+FN) = (1539+16662)/(1539+16662+1638+161) = 18,201/20,000 ≈ 0.9101 (91.01%) ✅\n",
        "\n",
        "2. **精确率(Precision)** = TP/(TP+FP) = 1539/(1539+1638) ≈ 0.4844 (48.44%) ✅\n",
        "\n",
        "3. **召回率(Recall/Sensitivity)** = TP/(TP+FN) = 1539/(1539+161) ≈ 0.9053 (90.53%) ✅\n",
        "\n",
        "#### 实际意义解读\n",
        "\n",
        "1. **高漏诊成本场景表现良好**：\n",
        "   - 只有161例糖尿病患者被漏诊(约9.47%)\n",
        "   - 适合疾病筛查等\"宁可误报不可漏报\"的场景\n",
        "\n",
        "2. **误诊问题显著**：\n",
        "   - 1,638例健康人被误判为糖尿病\n",
        "   - 这意味着每确诊1个真实患者，会伴随1.06个假阳性病例\n",
        "\n",
        "3. **数据不平衡明显**：\n",
        "   - 阴性样本(无糖尿病)：16,662 + 1,638 = 18,300\n",
        "   - 阳性样本(有糖尿病)：161 + 1,539 = 1,700\n",
        "   - 阳性阴性比例约为1:10.76"
      ],
      "metadata": {
        "id": "TSGucRELChqa"
      }
    },
    {
      "cell_type": "markdown",
      "source": [
        "### 25. 影响模型最重要的特征"
      ],
      "metadata": {
        "id": "9vbR1x349-SZ"
      }
    },
    {
      "cell_type": "code",
      "source": [
        "# 获取特征重要性\n",
        "feature_importance = loaded_best_model.feature_importances_\n",
        "\n",
        "# 创建特征重要性DataFrame\n",
        "features = X.columns\n",
        "importance_df = pd.DataFrame({\n",
        "    'Feature': features,\n",
        "    'Importance': feature_importance\n",
        "}).sort_values('Importance', ascending=False)\n",
        "\n",
        "# 可视化特征重要性\n",
        "plt.figure(figsize=(10, 6))\n",
        "sns.barplot(\n",
        "    x='Importance',\n",
        "    y='Feature',\n",
        "    hue='Feature',  # 添加hue参数\n",
        "    data=importance_df,\n",
        "    palette='viridis',\n",
        "    dodge=False,    # 防止分组\n",
        "    legend=False    # 不显示图例\n",
        ")\n",
        "\n",
        "# 添加数据标签\n",
        "for i, (feature, imp) in enumerate(zip(importance_df['Feature'], importance_df['Importance'])):\n",
        "    plt.text(imp + 0.005, i, f'{imp:.3f}', va='center')\n",
        "\n",
        "plt.title('Feature Importance for Diabetes Prediction', pad=20)\n",
        "plt.xlabel('Importance Score')\n",
        "plt.ylabel('Features')\n",
        "plt.tight_layout()\n",
        "plt.show()"
      ],
      "metadata": {
        "colab": {
          "base_uri": "https://localhost:8080/",
          "height": 606
        },
        "id": "CUvlgHC05Tjh",
        "outputId": "16c4f5fb-117d-4d10-cd8a-225735f2aa68"
      },
      "execution_count": null,
      "outputs": [
        {
          "output_type": "display_data",
          "data": {
            "text/plain": [
              "<Figure size 1000x600 with 1 Axes>"
            ],
            "image/png": "[encoded data removed]"
          },
          "metadata": {}
        }
      ]
    },
    {
      "cell_type": "markdown",
      "source": [
        "#### 糖尿病预测特征重要性分析（聚焦年龄及以下指标）\n",
        "\n",
        "#### 忽略前两个指标的原因\n",
        "\n",
        "**忽略blood_glucose_level和HbA1c_level的原因**：\n",
        "1. 这两个血糖相关指标在糖尿病预测中具有压倒性重要性（共占77.6%），会掩盖其他特征的分析价值\n",
        "2. 它们是临床诊断糖尿病的金标准指标，其重要性已是医学共识\n",
        "3. 我们需要重点关注那些可以提供额外风险分层信息的次级预测因子\n",
        "\n",
        "#### 从年龄开始的详细分析\n",
        "\n",
        "#### 1. age（年龄） - 重要性值: 0.085\n",
        "**临床意义**：\n",
        "- 在非血糖指标中排名第一\n",
        "- 每增加10岁，糖尿病风险增加约50%（流行病学研究显示）\n",
        "- 重要性值反映年龄是独立于血糖水平的重要风险因素\n",
        "\n",
        "**应用建议**：\n",
        "- 应作为筛查策略的重要分层因素\n",
        "- 对年轻人群（<40岁）即使血糖指标临界也需警惕\n",
        "- 老年人群（>60岁）可能需要更宽松的筛查阈值\n",
        "\n",
        "#### 2. bmi（身体质量指数） - 重要性值: 0.049\n",
        "**关键发现**：\n",
        "- 重要性高于高血压和心脏病\n",
        "- 说明肥胖对糖尿病的预测价值超过其导致的其他并发症\n",
        "\n",
        "**临床启示**：\n",
        "- BMI≥25 kg/m²人群应加强筛查\n",
        "- 减重干预可能带来显著的糖尿病预防效果\n",
        "- 在血糖指标临界时，BMI可作为决策参考因素\n",
        "\n",
        "#### 3. hypertension（高血压） - 重要性值: 0.041\n",
        "**与预期的差异**：\n",
        "- 重要性低于预期（通常认为高血压与糖尿病密切相关）\n",
        "- 可能原因：高血压患者已被包含在高BMI群体中\n",
        "- 模型提示：单纯高血压不伴肥胖时糖尿病风险增加有限\n",
        "\n",
        "#### 4. heart_disease（心脏病） - 重要性值: 0.029\n",
        "**值得注意的点**：\n",
        "- 重要性甚至低于高血压\n",
        "- 可能反映：冠心病与糖尿病的关联主要通过传统风险因素（年龄、血压、血脂）介导\n",
        "- 临床提示：无其他风险因素的单纯心脏病患者糖尿病风险未必显著增高\n",
        "\n",
        "#### 5. smoking_history（吸烟史） - 重要性值: 0.022\n",
        "**意外发现**：\n",
        "- 重要性高于性别因素\n",
        "- 最新研究支持吸烟是糖尿病的独立风险因素\n",
        "- 模型验证了这一相对较新的医学认知\n",
        "\n",
        "#### 6. gender（性别） - 重要性值: 0.019\n",
        "**分析结论**：\n",
        "- 在本模型中几乎无预测价值\n",
        "- 与流行病学数据（男性略高风险）有差异\n",
        "- 可能原因：性别差异已被年龄/BMI等因素解释\n",
        "\n",
        "#### 综合分析建议\n",
        "\n",
        "1. **风险分层应用**：\n",
        "   - 年龄+BMI可构成有效的初筛分层工具\n",
        "   - 对年龄>45岁且BMI≥25者应加强监测\n",
        "\n",
        "2. **模型优化方向**：\n",
        "   - 考虑加入腰围（中心性肥胖的更好指标）\n",
        "   - 可测试脂代谢指标（如HDL、TG）的补充价值\n",
        "\n",
        "3. **临床决策支持**：\n",
        "   - 当血糖指标处于诊断临界值时，应重点参考年龄和BMI\n",
        "   - 对老年肥胖患者应考虑更积极的干预\n",
        "\n",
        "这些次级预测因子的分析为糖尿病风险评估提供了重要的补充维度，特别是在早期筛查和预防干预场景中。"
      ],
      "metadata": {
        "id": "4ufJmHmfDghJ"
      }
    },
    {
      "cell_type": "markdown",
      "source": [
        "### 数据来源\n",
        "\n",
        "- ‌数据集名称‌：Diabetes prediction dataset\n",
        "- ‌数据来源‌：Kaggle(https://www.kaggle.com/datasets/iammustafatz/diabetes-prediction-dataset)"
      ],
      "metadata": {
        "id": "J78aiFplE3O6"
      }
    }
  ]
}